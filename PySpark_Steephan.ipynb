{
  "nbformat": 4,
  "nbformat_minor": 0,
  "metadata": {
    "colab": {
      "private_outputs": true,
      "provenance": [],
      "authorship_tag": "ABX9TyP0i25X7QyNhuWmg6Q2HhNS",
      "include_colab_link": true
    },
    "kernelspec": {
      "name": "python3",
      "display_name": "Python 3"
    },
    "language_info": {
      "name": "python"
    }
  },
  "cells": [
    {
      "cell_type": "markdown",
      "metadata": {
        "id": "view-in-github",
        "colab_type": "text"
      },
      "source": [
        "<a href=\"https://colab.research.google.com/github/JyotiChowrasia05/PySpark_Steephan/blob/main/PySpark_Steephan.ipynb\" target=\"_parent\"><img src=\"https://colab.research.google.com/assets/colab-badge.svg\" alt=\"Open In Colab\"/></a>"
      ]
    },
    {
      "cell_type": "code",
      "execution_count": null,
      "metadata": {
        "id": "DRdCB1xTA4au"
      },
      "outputs": [],
      "source": [
        "#!pip install PySpark"
      ]
    },
    {
      "cell_type": "code",
      "source": [
        "from pyspark.sql import SparkSession\n",
        "from pyspark.sql.functions import trim, col"
      ],
      "metadata": {
        "id": "XVOXnqlfF1JV"
      },
      "execution_count": null,
      "outputs": []
    },
    {
      "cell_type": "code",
      "source": [
        "# Creating a Spark Session\n",
        "spark = SparkSession.builder \\\n",
        "    .appName(\"MeteoriteApp\") \\\n",
        "    .getOrCreate()\n",
        "\n",
        "print(\"Spark Session Created Successfully!\")"
      ],
      "metadata": {
        "id": "QNYnM9m7BqLK"
      },
      "execution_count": null,
      "outputs": []
    },
    {
      "cell_type": "code",
      "source": [
        "# Reading the CSV file\n",
        "csv_file_path = \"/content/meteorite_landings_raw.csv\"\n",
        "\n",
        "df = spark.read.csv(\n",
        "    csv_file_path,\n",
        "    header=True,\n",
        "    inferSchema=True\n",
        ")\n",
        "\n",
        "print(f\"\\nDataFrame created from '{csv_file_path}'\")"
      ],
      "metadata": {
        "id": "xV6tQLoBCAbC"
      },
      "execution_count": null,
      "outputs": []
    },
    {
      "cell_type": "code",
      "source": [
        "type(df)"
      ],
      "metadata": {
        "id": "1mmwd7RNEmku"
      },
      "execution_count": null,
      "outputs": []
    },
    {
      "cell_type": "code",
      "source": [
        "df.show()"
      ],
      "metadata": {
        "id": "WUDN5pRuEbrn"
      },
      "execution_count": null,
      "outputs": []
    },
    {
      "cell_type": "code",
      "source": [
        "df.describe().show()"
      ],
      "metadata": {
        "id": "c6jW0OiXDqqn"
      },
      "execution_count": null,
      "outputs": []
    },
    {
      "cell_type": "code",
      "source": [
        "df.printSchema()"
      ],
      "metadata": {
        "id": "jm7PsiUVEYSn"
      },
      "execution_count": null,
      "outputs": []
    },
    {
      "cell_type": "code",
      "source": [
        "# Triming the whitr space from name column\n"
      ],
      "metadata": {
        "id": "tcuBA97_FPKe"
      },
      "execution_count": null,
      "outputs": []
    },
    {
      "cell_type": "code",
      "source": [],
      "metadata": {
        "id": "Ds7WyxWfFZvO"
      },
      "execution_count": null,
      "outputs": []
    },
    {
      "cell_type": "code",
      "source": [
        "# Stop the SparkSession\n",
        "spark.stop()\n",
        "print(\"\\nSparkSession stopped.\")"
      ],
      "metadata": {
        "id": "8rWW02PZE_cG"
      },
      "execution_count": null,
      "outputs": []
    }
  ]
}